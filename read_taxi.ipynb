{
 "cells": [
  {
   "cell_type": "code",
   "execution_count": 1,
   "id": "da2d9b54",
   "metadata": {},
   "outputs": [],
   "source": [
    "import pandas as pd\n",
    "import datetime\n",
    "import csv\n",
    "import tqdm\n",
    "import pickle"
   ]
  },
  {
   "cell_type": "code",
   "execution_count": null,
   "id": "423836d4",
   "metadata": {},
   "outputs": [],
   "source": [
    "YEAR = 2019\n",
    "_dir = 'data/Taxi Data/' + str(YEAR) + '_Yellow_Taxi_Trip_Data.csv'"
   ]
  },
  {
   "cell_type": "code",
   "execution_count": null,
   "id": "1c24f224",
   "metadata": {},
   "outputs": [],
   "source": [
    "colstouse = ['tpep_pickup_datetime', 'tpep_dropoff_datetime', 'PULocationID', 'DOLocationID']\n",
    "taxiDF = pd.read_csv(_dir,usecols=colstouse)\n",
    "taxiDF['tpep_pickup_datetime'] = pd.to_datetime(taxiDF['tpep_pickup_datetime'],format='%m/%d/%Y %I:%M:%S %p')"
   ]
  },
  {
   "cell_type": "code",
   "execution_count": 8,
   "id": "17f7012a",
   "metadata": {},
   "outputs": [],
   "source": [
    "def clean_year_error(df, year):\n",
    "    timeLower = datetime.datetime.strptime('01/01/'+ str(year)+ ' 12:00:00 AM', '%m/%d/%Y %I:%M:%S %p')\n",
    "    timeUpper = datetime.datetime.strptime('12/31/'+ str(year)+ ' 11:59:59 PM', '%m/%d/%Y %I:%M:%S %p')\n",
    "    _df = df[df['tpep_pickup_datetime'].between(timeLower, timeUpper)]\n",
    "    return _df\n",
    "    "
   ]
  },
  {
   "cell_type": "code",
   "execution_count": null,
   "id": "63d6dfdd",
   "metadata": {},
   "outputs": [],
   "source": [
    "taxiDF_cleaned_1 = clean_year_error(taxiDF, YEAR)\n",
    "taxiDF_cleaned_1"
   ]
  },
  {
   "cell_type": "code",
   "execution_count": null,
   "id": "4ff93ae3",
   "metadata": {},
   "outputs": [],
   "source": []
  },
  {
   "cell_type": "code",
   "execution_count": null,
   "id": "b232e67d",
   "metadata": {},
   "outputs": [],
   "source": [
    "taxiDF_cleaned_1[taxiDF_cleaned_1['PULocationID']==68].groupby(pd.Grouper(key='tpep_pickup_datetime', axis=0, freq='H', sort=True)).size()"
   ]
  },
  {
   "cell_type": "code",
   "execution_count": null,
   "id": "767c54d8",
   "metadata": {},
   "outputs": [],
   "source": [
    "def read_by_zone(year, zone):\n",
    "    with open('data/Taxi Data/' + str(year) + '_Yellow_Taxi_Trip_Data.csv') as input_file:\n",
    "        reader = csv.reader(input_file)\n",
    "        desired_rows = [row for row_number, row in enumerate(reader) if row[7] == zone ]\n",
    "    df = pd.DataFrame(desired_rows)\n",
    "    return df"
   ]
  },
  {
   "cell_type": "code",
   "execution_count": null,
   "id": "d38d42e7",
   "metadata": {},
   "outputs": [],
   "source": [
    "taxiDF_2017_23 = read_by_zone(2017, 23)\n",
    "taxiDF_2017_23"
   ]
  },
  {
   "cell_type": "code",
   "execution_count": null,
   "id": "6af41319",
   "metadata": {},
   "outputs": [],
   "source": [
    "taxiDF_cleaned_1"
   ]
  },
  {
   "cell_type": "code",
   "execution_count": null,
   "id": "6646738c",
   "metadata": {},
   "outputs": [],
   "source": []
  },
  {
   "cell_type": "code",
   "execution_count": 7,
   "id": "adc08334",
   "metadata": {},
   "outputs": [],
   "source": [
    "def process_a_year_and_save(year, freq):\n",
    "    _dir = 'data/Taxi Data/' + str(year) + '_Yellow_Taxi_Trip_Data.csv'\n",
    "    df = pd.read_csv(_dir, usecols=['tpep_pickup_datetime', 'tpep_dropoff_datetime', 'PULocationID', 'DOLocationID'])\n",
    "    df['tpep_pickup_datetime'] = pd.to_datetime(df['tpep_pickup_datetime'],format='%m/%d/%Y %I:%M:%S %p')\n",
    "    df = clean_year_error(df, year)\n",
    "    for zone in tqdm.tqdm(set(df['PULocationID'].values)):\n",
    "        sizeGroupByZone = df[df['PULocationID']==zone].groupby(pd.Grouper(key='tpep_pickup_datetime', axis=0, freq=freq, sort=True)).size()\n",
    "        savefile = 'data/Taxi Data/' + str(year) + '_' + str(zone) + '_taxi_dataframe_' + str(freq)\n",
    "        pickle.dump(sizeGroupByZone, open(savefile, 'wb'))"
   ]
  },
  {
   "cell_type": "code",
   "execution_count": null,
   "id": "6178104e",
   "metadata": {},
   "outputs": [],
   "source": [
    "process_a_year_and_save(2019, '2H')"
   ]
  },
  {
   "cell_type": "code",
   "execution_count": 6,
   "id": "2a5a2f3c",
   "metadata": {},
   "outputs": [],
   "source": [
    "def fill_timestamps(year, zone):\n",
    "    _df = pickle.load(open('data/Taxi Data/'+str(year)+'_'+str(zone)+'_taxi_dataframe','rb'))\n",
    "    _dfStartTime, _dfEndTime = _df.index.min(), _df.index.max()\n",
    "    _actualStart = pd.Timestamp(year=year, month=1, day=1, hour=0, minute=0, second=0) \n",
    "    _actualEnd = pd.Timestamp(year=year, month=12, day=31, hour=23, minute=0, second=0)\n",
    "    timeRangeBefore = pd.date_range(_actualStart, _dfStartTime-pd.Timedelta('1 hour'), freq='1H')\n",
    "    timeRangeAfter = pd.date_range(_dfEndTime+pd.Timedelta('1 hour'), _actualEnd,freq='1H')\n",
    "    for _timestamp in timeRangeBefore:\n",
    "        _df[_timestamp] = 0\n",
    "    for _timestamp in timeRangeAfter:\n",
    "        _df[_timestamp] = 0\n",
    "    _df = _df.sort_index(ascending=True)\n",
    "    return _df\n",
    "\n",
    "def concatenate_and_save():\n",
    "    for zone in tqdm.trange(1, 266):\n",
    "        try:\n",
    "            DFs = []\n",
    "            for year in [2017, 2018, 2019, 2020]:\n",
    "                _df = fill_timestamps(year, zone)\n",
    "                DFs.append(_df)\n",
    "            concatDF = pd.concat(DFs)\n",
    "            pickle.dump(concatDF.values, open('data/Taxi Data/Concat/' + '_' + str(zone) + '_taxi_dataframe_Concat','wb'))\n",
    "        except FileNotFoundError:\n",
    "            continue\n",
    "        "
   ]
  },
  {
   "cell_type": "code",
   "execution_count": 9,
   "id": "5611de6c",
   "metadata": {},
   "outputs": [
    {
     "name": "stderr",
     "output_type": "stream",
     "text": [
      "100%|████████████████████████████████████████████████████████████████████████████████| 265/265 [00:40<00:00,  6.60it/s]\n"
     ]
    }
   ],
   "source": [
    "concatenate_and_save()"
   ]
  },
  {
   "cell_type": "code",
   "execution_count": 12,
   "id": "01a8e923",
   "metadata": {},
   "outputs": [
    {
     "data": {
      "text/plain": [
       "array([100, 155, 148, ...,  15,  24,  15], dtype=int64)"
      ]
     },
     "execution_count": 12,
     "metadata": {},
     "output_type": "execute_result"
    }
   ],
   "source": [
    "zone = 100\n",
    "concat_ = pickle.load(open('data/Taxi Data/Concat/' + '_' + str(zone) + '_taxi_dataframe_Concat','rb'))\n",
    "concat_"
   ]
  },
  {
   "cell_type": "code",
   "execution_count": null,
   "id": "2b5f69b9",
   "metadata": {},
   "outputs": [],
   "source": [
    "taxiDF2017 = pd.read_csv('data/Taxi Data/' + str(2017) + '_Yellow_Taxi_Trip_Data.csv')\n",
    "taxiDF2018 = pd.read_csv('data/Taxi Data/' + str(2018) + '_Yellow_Taxi_Trip_Data.csv')"
   ]
  },
  {
   "cell_type": "code",
   "execution_count": null,
   "id": "bdc14ff1",
   "metadata": {},
   "outputs": [],
   "source": [
    "taxiDF2017_2018 = pd.concat([taxiDF2017, taxiDF2018])"
   ]
  },
  {
   "cell_type": "code",
   "execution_count": null,
   "id": "c3faae4b",
   "metadata": {},
   "outputs": [],
   "source": []
  },
  {
   "cell_type": "code",
   "execution_count": null,
   "id": "5e9f782a",
   "metadata": {},
   "outputs": [],
   "source": [
    "start = pd.Timestamp(year=2019, month=1, day=1, hour=1, minute=0, second=0)\n",
    "end = pd.Timestamp(year=2019, month=1, day=1, hour=12, minute=0, second=0) - pd.Timedelta('1 hour')\n",
    "pd.date_range(start, end, freq='H')"
   ]
  },
  {
   "cell_type": "markdown",
   "id": "ff7f6f50",
   "metadata": {},
   "source": [
    "## Below for testing"
   ]
  },
  {
   "cell_type": "code",
   "execution_count": null,
   "id": "b50d9d4f",
   "metadata": {},
   "outputs": [],
   "source": [
    "taxiDF_cleaned_1['tpep_pickup_datetime'].max()"
   ]
  },
  {
   "cell_type": "code",
   "execution_count": null,
   "id": "5ad172aa",
   "metadata": {},
   "outputs": [],
   "source": [
    "pickuptime = taxiDF['tpep_pickup_datetime'].loc[0]\n",
    "\n",
    "pickuptime"
   ]
  },
  {
   "cell_type": "code",
   "execution_count": null,
   "id": "100847bf",
   "metadata": {},
   "outputs": [],
   "source": []
  },
  {
   "cell_type": "code",
   "execution_count": null,
   "id": "b415fd86",
   "metadata": {},
   "outputs": [],
   "source": [
    "taxiDF = taxiDF[taxiDF['tpep_pickup_datetime'] != '2002-12-31 23:06:55']"
   ]
  },
  {
   "cell_type": "code",
   "execution_count": null,
   "id": "58ca4140",
   "metadata": {},
   "outputs": [],
   "source": [
    "date_string = '01/01/2020 12:47:41 AM'\n",
    "_datetime = datetime.datetime.strptime(date_string, '%m/%d/%Y %I:%M:%S %p')"
   ]
  },
  {
   "cell_type": "code",
   "execution_count": null,
   "id": "cf7a3c11",
   "metadata": {},
   "outputs": [],
   "source": [
    "taxiDF['tpep_pickup_datetime'].loc[2] == _datetime"
   ]
  },
  {
   "cell_type": "code",
   "execution_count": null,
   "id": "e0cfad92",
   "metadata": {},
   "outputs": [],
   "source": [
    "taxiDF.groupby(pd.Grouper(key='tpep_pickup_datetime', axis=0, freq='2H', sort=True)).size()"
   ]
  },
  {
   "cell_type": "code",
   "execution_count": null,
   "id": "1e8e8eb8",
   "metadata": {},
   "outputs": [],
   "source": []
  }
 ],
 "metadata": {
  "kernelspec": {
   "display_name": "Python 3 (ipykernel)",
   "language": "python",
   "name": "python3"
  },
  "language_info": {
   "codemirror_mode": {
    "name": "ipython",
    "version": 3
   },
   "file_extension": ".py",
   "mimetype": "text/x-python",
   "name": "python",
   "nbconvert_exporter": "python",
   "pygments_lexer": "ipython3",
   "version": "3.9.7"
  }
 },
 "nbformat": 4,
 "nbformat_minor": 5
}
